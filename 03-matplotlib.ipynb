{
 "cells": [
  {
   "cell_type": "markdown",
   "id": "b202cc57-2ed7-4330-b065-d1a681e1d3c5",
   "metadata": {},
   "source": [
    "# **Matplotlib**"
   ]
  },
  {
   "cell_type": "markdown",
   "id": "e19c9f35-2b5c-4045-a491-193471ee8bec",
   "metadata": {},
   "source": [
    "## What is Matplotlib?\n",
    "\n",
    "Matplotlib is a Python library used for creating graphs and visualizations, like bar charts and line plots, to help us see and understand data easily. It’s like a tool for drawing pictures of data to describe patterns and trends clearly.\n",
    "\n",
    "## What matplotlib does?\n",
    "\n",
    "- Turn data into visuals/plots --- (Plots also known as figures)\n",
    "\n",
    "## Why matplotlib?\n",
    "\n",
    "- Built on top of the NumPy arrays and Python\n",
    "- Integrates directly with panda\n",
    "- Can create basic or advanced plots\n",
    "- Simple to use\n",
    "\n",
    "## Matplotlib workflow\n",
    "\n",
    "![](assets/01-workflow.png)"
   ]
  },
  {
   "cell_type": "code",
   "execution_count": null,
   "id": "9bb4f0d7-f230-463f-a335-8e980bf3bd24",
   "metadata": {},
   "outputs": [],
   "source": []
  }
 ],
 "metadata": {
  "kernelspec": {
   "display_name": "Python 3 (ipykernel)",
   "language": "python",
   "name": "python3"
  },
  "language_info": {
   "codemirror_mode": {
    "name": "ipython",
    "version": 3
   },
   "file_extension": ".py",
   "mimetype": "text/x-python",
   "name": "python",
   "nbconvert_exporter": "python",
   "pygments_lexer": "ipython3",
   "version": "3.12.4"
  }
 },
 "nbformat": 4,
 "nbformat_minor": 5
}
