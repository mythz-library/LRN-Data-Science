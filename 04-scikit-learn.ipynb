{
 "cells": [
  {
   "cell_type": "markdown",
   "id": "842b9daf-9813-403f-b86e-727adeaa3f2c",
   "metadata": {},
   "source": [
    "# **Scikit-Learn**"
   ]
  },
  {
   "cell_type": "markdown",
   "id": "ac59ebd2-c403-4b2f-9c2a-4001299695c4",
   "metadata": {},
   "source": [
    "## What is Scikit-learn?\n",
    "- Scikit-learn is a one of the popular Python library used for machine learning & data mining\n",
    "- It provides tools for building, training, and testing machine learning models\n",
    "- Scikit learn library has a simple and consistent API for easy model implementation\n",
    "- Supports both supervised (e.g., classification, regression) and unsupervised (e.g., clustering, dimensionality reduction) learning algorithms\n",
    "\n",
    "## What is Data Mining?\n",
    "- Data mining is the process of discovering patterns, trends, and useful information from large datasets using statistical, mathematical, and machine learning techniques\n",
    "\n",
    "## Why Scikit-learn?\n",
    "- It integrates well with other Python libraries like NumPy and Pandas\n",
    "- Has many in-built machine learning models\n",
    "- Offers tools for model evaluation, including cross-validation and performance metrics\n",
    "- Provides functions for data preprocessing, such as scaling, normalization, and encoding\n",
    "- Scikit-learn is open-source and widely used in academia and industry\n",
    "\n",
    "## Scikit Learn Workflow\n",
    "\n",
    "![workflow image](assets/scikit-learn-workflow.webp)\n",
    "\n",
    "<br/>\n",
    "\n",
    "---\n",
    "\n",
    "<br/>"
   ]
  },
  {
   "cell_type": "code",
   "execution_count": null,
   "id": "7236b2a4-df16-4512-8737-7bf6f89a066a",
   "metadata": {},
   "outputs": [],
   "source": []
  }
 ],
 "metadata": {
  "kernelspec": {
   "display_name": "",
   "name": ""
  },
  "language_info": {
   "name": ""
  }
 },
 "nbformat": 4,
 "nbformat_minor": 5
}
