{
 "cells": [
  {
   "cell_type": "markdown",
   "id": "39c06c53-490a-4175-b68a-0fea07d5503b",
   "metadata": {},
   "source": [
    "# **Pandas**"
   ]
  },
  {
   "cell_type": "markdown",
   "id": "634ad0cf-c537-4a3b-ab04-2353cfc45be4",
   "metadata": {},
   "source": [
    "## What is Pandas?\n",
    "\n",
    "Pandas is a Python library <ins>used for data manipulation and analysis</ins>, providing data structures like DataFrames that allow for easy handling of structured data such as tables.\n",
    "\n",
    "\n",
    "## Why Pandas?\n",
    "\n",
    "- Simple to use\n",
    "- Integrated with many other data science & ML Python tools such as NumPy, Matplotlib, Scikit-learn, TensorFlow, and Seaborn etc.\n",
    "- Helps to prepare data for machine learning.\n",
    "\n",
    "\n",
    "## What is Raw Data?\n",
    "\n",
    "Raw data refers to <ins>unprocessed or unrefined data</ins> collected (just gathered data) from various sources, which hasn't been cleaned, organized, or analyzed yet.\n",
    "\n",
    "<br/>"
   ]
  },
  {
   "cell_type": "code",
   "execution_count": null,
   "id": "c584690d-f2cc-49ec-88ef-94b5e32f7e0d",
   "metadata": {},
   "outputs": [],
   "source": []
  }
 ],
 "metadata": {
  "kernelspec": {
   "display_name": "Python 3 (ipykernel)",
   "language": "python",
   "name": "python3"
  },
  "language_info": {
   "codemirror_mode": {
    "name": "ipython",
    "version": 3
   },
   "file_extension": ".py",
   "mimetype": "text/x-python",
   "name": "python",
   "nbconvert_exporter": "python",
   "pygments_lexer": "ipython3",
   "version": "3.12.4"
  }
 },
 "nbformat": 4,
 "nbformat_minor": 5
}
